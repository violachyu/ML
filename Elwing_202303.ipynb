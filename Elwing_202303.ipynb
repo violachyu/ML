{
  "nbformat": 4,
  "nbformat_minor": 0,
  "metadata": {
    "colab": {
      "provenance": [],
      "authorship_tag": "ABX9TyP1u8k3LedwPVMs+wYQWkmH",
      "include_colab_link": true
    },
    "kernelspec": {
      "name": "python3",
      "display_name": "Python 3"
    },
    "language_info": {
      "name": "python"
    }
  },
  "cells": [
    {
      "cell_type": "markdown",
      "metadata": {
        "id": "view-in-github",
        "colab_type": "text"
      },
      "source": [
        "<a href=\"https://colab.research.google.com/github/violachyu/ML/blob/main/Elwing_202303.ipynb\" target=\"_parent\"><img src=\"https://colab.research.google.com/assets/colab-badge.svg\" alt=\"Open In Colab\"/></a>"
      ]
    },
    {
      "cell_type": "markdown",
      "source": [
        "### Latex Math ###\n",
        "https://en.wikibooks.org/wiki/LaTeX/Mathematics\n",
        "\n",
        "$ Area=\\frac{1}{2}π{R^2}\\ $ 數學函式寫在兩個$之間"
      ],
      "metadata": {
        "id": "VDsH8sztJWdk"
      }
    },
    {
      "cell_type": "code",
      "source": [
        "from sklearn.model_selection import train_test_split\n",
        "# train_test_split(特徵矩陣, 目標變量, test_size=測試集大小, random_state=隨機數生成器的種子)\n",
        "# random_state 用於確保每次劃分的結果是相同的，以便進行比較。\n",
        "X_train, X_test, y_train, y_test \n",
        "= train_test_split(X, y, test_size=0.3, random_state=42)\n",
        "# X_train, y_train是訓練集的特徵和目標變量，X_test, y_test是測試集的特徵和目標變量。"
      ],
      "metadata": {
        "id": "3ZIkVR4EMg6F"
      },
      "execution_count": null,
      "outputs": []
    }
  ]
}